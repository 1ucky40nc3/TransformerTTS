{
  "nbformat": 4,
  "nbformat_minor": 0,
  "metadata": {
    "colab": {
      "name": "create_data.ipynb",
      "provenance": [],
      "collapsed_sections": []
    },
    "kernelspec": {
      "name": "python3",
      "display_name": "Python 3"
    },
    "language_info": {
      "name": "python"
    }
  },
  "cells": [
    {
      "cell_type": "markdown",
      "source": [
        "# Set up the notebook"
      ],
      "metadata": {
        "id": "GnBPVTwnNS6e"
      }
    },
    {
      "cell_type": "markdown",
      "source": [
        "## Clone the repository"
      ],
      "metadata": {
        "id": "Nx8N7jSPNVRo"
      }
    },
    {
      "cell_type": "code",
      "source": [
        "!git clone https://github.com/1ucky40nc3/TransformerTTS.git\n",
        "%cd TransformerTTS\n",
        "!git checkout midi_music"
      ],
      "metadata": {
        "id": "S7XwtxaEM7DS"
      },
      "execution_count": null,
      "outputs": []
    },
    {
      "cell_type": "markdown",
      "metadata": {
        "id": "a6mq5cEXNx2X"
      },
      "source": [
        "## Install [MidiTok](https://github.com/Natooz/MidiTok)"
      ]
    },
    {
      "cell_type": "code",
      "execution_count": null,
      "metadata": {
        "id": "SnGJygrNNx2Z"
      },
      "outputs": [],
      "source": [
        "!pip install miditok"
      ]
    },
    {
      "cell_type": "markdown",
      "metadata": {
        "id": "WsL2NmtOzz0H"
      },
      "source": [
        "## Install [fluidsynth](https://github.com/FluidSynth/fluidsynth)"
      ]
    },
    {
      "cell_type": "code",
      "execution_count": null,
      "metadata": {
        "id": "SbyXXKHb0Ewm"
      },
      "outputs": [],
      "source": [
        "!apt-get install fluidsynth"
      ]
    },
    {
      "cell_type": "markdown",
      "metadata": {
        "id": "U6H0EHE2yFCX"
      },
      "source": [
        "## Download the [REMI](https://github.com/YatingMusic/remi) dataset"
      ]
    },
    {
      "cell_type": "code",
      "source": [
        "!sh data/download_remi.sh"
      ],
      "metadata": {
        "id": "xzPHSCyGM6dN"
      },
      "execution_count": null,
      "outputs": []
    },
    {
      "cell_type": "markdown",
      "source": [
        "# Create the data"
      ],
      "metadata": {
        "id": "Ljv4JJrmN_lY"
      }
    },
    {
      "cell_type": "markdown",
      "source": [
        "## Create the text data"
      ],
      "metadata": {
        "id": "ez57p_ZaOBNI"
      }
    },
    {
      "cell_type": "code",
      "source": [
        "!mkdirs -p data/midi_music\n",
        "!python data/create_text.py \\\n",
        "    --data_dir remi/data/train \\\n",
        "    --out_file data/midi_music/metadata.csv"
      ],
      "metadata": {
        "id": "VpiT8D-FOG4_"
      },
      "execution_count": null,
      "outputs": []
    },
    {
      "cell_type": "markdown",
      "source": [
        "## Create the audio data"
      ],
      "metadata": {
        "id": "NxhcvNGRPxKE"
      }
    },
    {
      "cell_type": "code",
      "source": [
        "!python data/create_audio.py \\\n",
        "    --csv_file data/midi_music/metadata.csv \\\n",
        "    --midi_dir data/midi_music/midi \\\n",
        "    --wav_dir data/midi_music/wav \\"
      ],
      "metadata": {
        "id": "xqdcZs8yPX9d"
      },
      "execution_count": null,
      "outputs": []
    }
  ]
}