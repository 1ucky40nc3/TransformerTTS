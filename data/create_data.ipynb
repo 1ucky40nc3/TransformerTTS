{
  "cells": [
    {
      "cell_type": "markdown",
      "metadata": {
        "id": "Plz5oglUQG5Q"
      },
      "source": [
        "<a href=\"https://githubtocolab.com/1ucky40nc3/TransformerTTS/blob/midi_music/data/create_data.ipynb\" target=\"_parent\"><img src=\"https://colab.research.google.com/assets/colab-badge.svg\" alt=\"Open in Colab\"/></a>"
      ]
    },
    {
      "cell_type": "markdown",
      "metadata": {
        "id": "GnBPVTwnNS6e"
      },
      "source": [
        "# Set up the notebook"
      ]
    },
    {
      "cell_type": "markdown",
      "metadata": {
        "id": "Nx8N7jSPNVRo"
      },
      "source": [
        "## Clone the repository"
      ]
    },
    {
      "cell_type": "code",
      "execution_count": null,
      "metadata": {
        "id": "S7XwtxaEM7DS"
      },
      "outputs": [],
      "source": [
        "!git clone https://github.com/1ucky40nc3/TransformerTTS.git\n",
        "%cd TransformerTTS\n",
        "!git checkout midi_music"
      ]
    },
    {
      "cell_type": "markdown",
      "metadata": {
        "id": "a6mq5cEXNx2X"
      },
      "source": [
        "## Install [MidiTok](https://github.com/Natooz/MidiTok)"
      ]
    },
    {
      "cell_type": "code",
      "execution_count": null,
      "metadata": {
        "id": "SnGJygrNNx2Z"
      },
      "outputs": [],
      "source": [
        "!pip install miditok"
      ]
    },
    {
      "cell_type": "markdown",
      "metadata": {
        "id": "WsL2NmtOzz0H"
      },
      "source": [
        "## Install [fluidsynth](https://github.com/FluidSynth/fluidsynth)"
      ]
    },
    {
      "cell_type": "code",
      "execution_count": null,
      "metadata": {
        "id": "SbyXXKHb0Ewm"
      },
      "outputs": [],
      "source": [
        "!apt-get install fluidsynth"
      ]
    },
    {
      "cell_type": "markdown",
      "metadata": {
        "id": "U6H0EHE2yFCX"
      },
      "source": [
        "## Download the [REMI](https://github.com/YatingMusic/remi) dataset"
      ]
    },
    {
      "cell_type": "code",
      "execution_count": null,
      "metadata": {
        "id": "xzPHSCyGM6dN"
      },
      "outputs": [],
      "source": [
        "!sh data/download_remi.sh"
      ]
    },
    {
      "cell_type": "markdown",
      "metadata": {
        "id": "Ljv4JJrmN_lY"
      },
      "source": [
        "# Create the data"
      ]
    },
    {
      "cell_type": "markdown",
      "metadata": {
        "id": "ez57p_ZaOBNI"
      },
      "source": [
        "## Create the text data"
      ]
    },
    {
      "cell_type": "code",
      "execution_count": null,
      "metadata": {
        "id": "VpiT8D-FOG4_"
      },
      "outputs": [],
      "source": [
        "!mkdirs -p data/midi_music\n",
        "!python data/create_text.py \\\n",
        "    --data_dir remi/data/train \\\n",
        "    --out_file data/midi_music/metadata.csv"
      ]
    },
    {
      "cell_type": "markdown",
      "metadata": {
        "id": "NxhcvNGRPxKE"
      },
      "source": [
        "## Create the audio data"
      ]
    },
    {
      "cell_type": "code",
      "execution_count": null,
      "metadata": {
        "id": "xqdcZs8yPX9d"
      },
      "outputs": [],
      "source": [
        "!python data/create_audio.py \\\n",
        "    --csv_file data/midi_music/metadata.csv \\\n",
        "    --midi_dir data/midi_music/midi \\\n",
        "    --wav_dir data/midi_music/wav \\"
      ]
    }
  ],
  "metadata": {
    "colab": {
      "collapsed_sections": [],
      "name": "create_data.ipynb",
      "provenance": []
    },
    "kernelspec": {
      "display_name": "Python 3.8.0 64-bit",
      "language": "python",
      "name": "python3"
    },
    "language_info": {
      "name": "python",
      "version": "3.8.0"
    },
    "vscode": {
      "interpreter": {
        "hash": "89a17144586464b8ad29eb738f315503f40ccf5acd27c4498b60cfa1b9f49e6c"
      }
    }
  },
  "nbformat": 4,
  "nbformat_minor": 0
}
